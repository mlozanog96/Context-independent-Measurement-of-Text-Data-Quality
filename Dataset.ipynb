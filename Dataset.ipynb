{
 "cells": [
  {
   "cell_type": "markdown",
   "id": "af50f626",
   "metadata": {},
   "source": [
    "# Dataset"
   ]
  },
  {
   "cell_type": "markdown",
   "id": "34e8107c",
   "metadata": {},
   "source": [
    "## Libraries and settings "
   ]
  },
  {
   "cell_type": "code",
   "execution_count": 1,
   "id": "c1573dfa",
   "metadata": {},
   "outputs": [],
   "source": [
    "import pandas as pd\n",
    "\n",
    "# Detect the encoding\n",
    "import chardet \n",
    "\n",
    "# To store data\n",
    "import pickle\n",
    "from pathlib import Path\n",
    "\n",
    "# Charts\n",
    "import matplotlib.pyplot as plt"
   ]
  },
  {
   "cell_type": "code",
   "execution_count": 2,
   "id": "7972162c",
   "metadata": {},
   "outputs": [],
   "source": [
    "# Settings to visualizate all the content\n",
    "#pd.set_option('display.max_colwidth', None)\n",
    "pd.set_option('display.max_rows', None)"
   ]
  },
  {
   "cell_type": "markdown",
   "id": "386b42b7",
   "metadata": {},
   "source": [
    "## Load files"
   ]
  },
  {
   "cell_type": "code",
   "execution_count": 3,
   "id": "fe77a923",
   "metadata": {},
   "outputs": [],
   "source": [
    "# Columns names for Twitter data (not including in the raw data)\n",
    "twitter_columns=['Sentiment','ID','Date','Query','User','Text','human_sentiment']\n",
    "\n",
    "# Paths\n",
    "path_twitter= 'Data/Raw Data/Twitter_1000.xlsx'\n",
    "path_news= 'Data/Raw Data/News_COVID_1000.xlsx'\n",
    "path_reviews='Data/Raw Data/Reviews_1000.xlsx'"
   ]
  },
  {
   "cell_type": "code",
   "execution_count": 4,
   "id": "e64bfcdd",
   "metadata": {},
   "outputs": [],
   "source": [
    "# Read excels\n",
    "df_twitter = pd.read_excel(path_twitter, index_col=None, header=None, names=twitter_columns)\n",
    "df_news= pd.read_excel(path_news)\n",
    "df_reviews= pd.read_excel(path_reviews)"
   ]
  },
  {
   "cell_type": "code",
   "execution_count": 5,
   "id": "4c8cc632",
   "metadata": {},
   "outputs": [
    {
     "name": "stdout",
     "output_type": "stream",
     "text": [
      "Twitter shape:  (1000, 7)\n",
      "News shape:  (1000, 10)\n",
      "Reviews shape:  (1000, 21)\n"
     ]
    }
   ],
   "source": [
    "# Datasets shape\n",
    "print('Twitter shape: ', df_twitter.shape)\n",
    "print('News shape: ',df_news.shape)\n",
    "print('Reviews shape: ',df_reviews.shape)"
   ]
  },
  {
   "cell_type": "markdown",
   "id": "89745fb4",
   "metadata": {},
   "source": [
    "## Data Consolidation "
   ]
  },
  {
   "cell_type": "code",
   "execution_count": 6,
   "id": "49fadc23",
   "metadata": {},
   "outputs": [],
   "source": [
    "# Selection of needed columns: Text and human sentiment column\n",
    "\n",
    "df_twitter= df_twitter[['Text','human_sentiment']]\n",
    "\n",
    "# It was decided to analyze headlines and description as different text\n",
    "df_news_title= df_news[['Headline','human_sentiment_title']]\n",
    "df_news_text= df_news[['Description','human_sentiment']]\n",
    "\n",
    "# It was decided to analyze title and reviews as different text\n",
    "# We don't have a sentiment column so we create one empty column in order to standardize the dataset\n",
    "df_review_title= df_reviews[['review_title','human_sentiment_title']]\n",
    "df_review_text= df_reviews[['review_text','human_sentiment']]"
   ]
  },
  {
   "cell_type": "code",
   "execution_count": 7,
   "id": "149db71e",
   "metadata": {},
   "outputs": [],
   "source": [
    "# Standardize columns names in all the tables\n",
    "\n",
    "df_twitter = df_twitter.rename(columns={'Text': 'text'})\n",
    "df_news_title = df_news_title.rename(columns={'human_sentiment_title': 'human_sentiment', 'Headline': 'text'})\n",
    "df_news_text = df_news_text.rename(columns={'Description': 'text'})\n",
    "df_review_title = df_review_title.rename(columns={'human_sentiment_title': 'human_sentiment', 'review_title': 'text'})\n",
    "df_review_text = df_review_text.rename(columns={'review_text': 'text'})"
   ]
  },
  {
   "cell_type": "code",
   "execution_count": 8,
   "id": "f0216c8d",
   "metadata": {},
   "outputs": [],
   "source": [
    "# Create a new column in other to categorize the data\n",
    "df_twitter['text_type']=\"twitter\"\n",
    "df_news_title['text_type']=\"news title\"\n",
    "df_news_text['text_type']=\"news\"\n",
    "df_review_title['text_type']=\"review title\"\n",
    "df_review_text['text_type']=\"review\""
   ]
  },
  {
   "cell_type": "code",
   "execution_count": 9,
   "id": "3d84d1e5",
   "metadata": {},
   "outputs": [],
   "source": [
    "# Concatenate different datasets to work with only one dataset\n",
    "df = pd.concat([df_twitter,df_news_title, df_news_text, df_review_title, df_review_text], axis=0)"
   ]
  },
  {
   "cell_type": "code",
   "execution_count": 10,
   "id": "7552f6d5",
   "metadata": {
    "scrolled": true
   },
   "outputs": [
    {
     "data": {
      "text/html": [
       "<div>\n",
       "<style scoped>\n",
       "    .dataframe tbody tr th:only-of-type {\n",
       "        vertical-align: middle;\n",
       "    }\n",
       "\n",
       "    .dataframe tbody tr th {\n",
       "        vertical-align: top;\n",
       "    }\n",
       "\n",
       "    .dataframe thead th {\n",
       "        text-align: right;\n",
       "    }\n",
       "</style>\n",
       "<table border=\"1\" class=\"dataframe\">\n",
       "  <thead>\n",
       "    <tr style=\"text-align: right;\">\n",
       "      <th></th>\n",
       "      <th>text</th>\n",
       "      <th>human_sentiment</th>\n",
       "      <th>text_type</th>\n",
       "    </tr>\n",
       "  </thead>\n",
       "  <tbody>\n",
       "    <tr>\n",
       "      <th>0</th>\n",
       "      <td>@switchfoot http://twitpic.com/2y1zl - Awww, t...</td>\n",
       "      <td>negative</td>\n",
       "      <td>twitter</td>\n",
       "    </tr>\n",
       "    <tr>\n",
       "      <th>1</th>\n",
       "      <td>is upset that he can't update his Facebook by ...</td>\n",
       "      <td>negative</td>\n",
       "      <td>twitter</td>\n",
       "    </tr>\n",
       "    <tr>\n",
       "      <th>2</th>\n",
       "      <td>@Kenichan I dived many times for the ball. Man...</td>\n",
       "      <td>neutral</td>\n",
       "      <td>twitter</td>\n",
       "    </tr>\n",
       "    <tr>\n",
       "      <th>3</th>\n",
       "      <td>my whole body feels itchy and like its on fire</td>\n",
       "      <td>negative</td>\n",
       "      <td>twitter</td>\n",
       "    </tr>\n",
       "    <tr>\n",
       "      <th>4</th>\n",
       "      <td>@nationwideclass no, it's not behaving at all....</td>\n",
       "      <td>neutral</td>\n",
       "      <td>twitter</td>\n",
       "    </tr>\n",
       "  </tbody>\n",
       "</table>\n",
       "</div>"
      ],
      "text/plain": [
       "                                                text human_sentiment text_type\n",
       "0  @switchfoot http://twitpic.com/2y1zl - Awww, t...        negative   twitter\n",
       "1  is upset that he can't update his Facebook by ...        negative   twitter\n",
       "2  @Kenichan I dived many times for the ball. Man...         neutral   twitter\n",
       "3    my whole body feels itchy and like its on fire         negative   twitter\n",
       "4  @nationwideclass no, it's not behaving at all....         neutral   twitter"
      ]
     },
     "execution_count": 10,
     "metadata": {},
     "output_type": "execute_result"
    }
   ],
   "source": [
    "df.head()"
   ]
  },
  {
   "cell_type": "markdown",
   "id": "795bca72",
   "metadata": {},
   "source": [
    "## Text lenght and classifcation"
   ]
  },
  {
   "cell_type": "code",
   "execution_count": 11,
   "id": "8af4e8e2",
   "metadata": {},
   "outputs": [],
   "source": [
    "# Function to add a column including the lenght of a selected column and another one with the count of words\n",
    "def add_length(df, column, length_col):\n",
    "    length = []\n",
    "    for value in df[column]:\n",
    "        length.append(len(str(value)))\n",
    "    df[length_col] = length\n",
    "    return df"
   ]
  },
  {
   "cell_type": "code",
   "execution_count": 12,
   "id": "f86256b4",
   "metadata": {},
   "outputs": [
    {
     "data": {
      "text/html": [
       "<div>\n",
       "<style scoped>\n",
       "    .dataframe tbody tr th:only-of-type {\n",
       "        vertical-align: middle;\n",
       "    }\n",
       "\n",
       "    .dataframe tbody tr th {\n",
       "        vertical-align: top;\n",
       "    }\n",
       "\n",
       "    .dataframe thead th {\n",
       "        text-align: right;\n",
       "    }\n",
       "</style>\n",
       "<table border=\"1\" class=\"dataframe\">\n",
       "  <thead>\n",
       "    <tr style=\"text-align: right;\">\n",
       "      <th></th>\n",
       "      <th>text</th>\n",
       "      <th>human_sentiment</th>\n",
       "      <th>text_type</th>\n",
       "      <th>length</th>\n",
       "    </tr>\n",
       "  </thead>\n",
       "  <tbody>\n",
       "    <tr>\n",
       "      <th>0</th>\n",
       "      <td>@switchfoot http://twitpic.com/2y1zl - Awww, t...</td>\n",
       "      <td>negative</td>\n",
       "      <td>twitter</td>\n",
       "      <td>115</td>\n",
       "    </tr>\n",
       "    <tr>\n",
       "      <th>1</th>\n",
       "      <td>is upset that he can't update his Facebook by ...</td>\n",
       "      <td>negative</td>\n",
       "      <td>twitter</td>\n",
       "      <td>111</td>\n",
       "    </tr>\n",
       "    <tr>\n",
       "      <th>2</th>\n",
       "      <td>@Kenichan I dived many times for the ball. Man...</td>\n",
       "      <td>neutral</td>\n",
       "      <td>twitter</td>\n",
       "      <td>89</td>\n",
       "    </tr>\n",
       "    <tr>\n",
       "      <th>3</th>\n",
       "      <td>my whole body feels itchy and like its on fire</td>\n",
       "      <td>negative</td>\n",
       "      <td>twitter</td>\n",
       "      <td>47</td>\n",
       "    </tr>\n",
       "    <tr>\n",
       "      <th>4</th>\n",
       "      <td>@nationwideclass no, it's not behaving at all....</td>\n",
       "      <td>neutral</td>\n",
       "      <td>twitter</td>\n",
       "      <td>111</td>\n",
       "    </tr>\n",
       "  </tbody>\n",
       "</table>\n",
       "</div>"
      ],
      "text/plain": [
       "                                                text human_sentiment  \\\n",
       "0  @switchfoot http://twitpic.com/2y1zl - Awww, t...        negative   \n",
       "1  is upset that he can't update his Facebook by ...        negative   \n",
       "2  @Kenichan I dived many times for the ball. Man...         neutral   \n",
       "3    my whole body feels itchy and like its on fire         negative   \n",
       "4  @nationwideclass no, it's not behaving at all....         neutral   \n",
       "\n",
       "  text_type  length  \n",
       "0   twitter     115  \n",
       "1   twitter     111  \n",
       "2   twitter      89  \n",
       "3   twitter      47  \n",
       "4   twitter     111  "
      ]
     },
     "execution_count": 12,
     "metadata": {},
     "output_type": "execute_result"
    }
   ],
   "source": [
    "df= add_length(df,'text','length')\n",
    "df.head()"
   ]
  },
  {
   "cell_type": "code",
   "execution_count": 13,
   "id": "c768dc16",
   "metadata": {},
   "outputs": [
    {
     "name": "stdout",
     "output_type": "stream",
     "text": [
      "Mean length:  155.6378\n",
      "\n",
      "Median length:  79.0\n",
      "\n",
      "Min length:  3\n",
      "\n",
      "Max length:  1354\n"
     ]
    }
   ],
   "source": [
    "# Average, Mins and Maxs Lenghts\n",
    "print('Mean length: ', df['length'].mean())\n",
    "print('\\nMedian length: ', df['length'].median())\n",
    "print('\\nMin length: ', df['length'].min())\n",
    "print('\\nMax length: ', df['length'].max())"
   ]
  },
  {
   "cell_type": "code",
   "execution_count": 14,
   "id": "b816d446",
   "metadata": {},
   "outputs": [
    {
     "name": "stdout",
     "output_type": "stream",
     "text": [
      "Mean length:  text_type\n",
      "news            358.467\n",
      "news title       70.851\n",
      "review          254.337\n",
      "review title     19.947\n",
      "twitter          74.587\n",
      "Name: length, dtype: float64\n",
      "\n",
      "Median length:  text_type\n",
      "news            360.0\n",
      "news title       71.0\n",
      "review          211.0\n",
      "review title     18.0\n",
      "twitter          69.0\n",
      "Name: length, dtype: float64\n",
      "\n",
      "Min length:  text_type\n",
      "news            287\n",
      "news title       41\n",
      "review           50\n",
      "review title      3\n",
      "twitter           8\n",
      "Name: length, dtype: int64\n",
      "\n",
      "Max length:  text_type\n",
      "news             404\n",
      "news title        90\n",
      "review          1354\n",
      "review title      52\n",
      "twitter          150\n",
      "Name: length, dtype: int64\n"
     ]
    }
   ],
   "source": [
    "# Average, Mins and Maxs Lenghts\n",
    "print('Mean length: ', df.groupby('text_type')['length'].mean())\n",
    "print('\\nMedian length: ', df.groupby('text_type')['length'].median())\n",
    "print('\\nMin length: ', df.groupby('text_type')['length'].min())\n",
    "print('\\nMax length: ', df.groupby('text_type')['length'].max())"
   ]
  },
  {
   "cell_type": "code",
   "execution_count": 15,
   "id": "9829d513",
   "metadata": {},
   "outputs": [
    {
     "data": {
      "image/png": "[encoded data removed]",
      "text/plain": [
       "<Figure size 1080x360 with 1 Axes>"
      ]
     },
     "metadata": {
      "needs_background": "light"
     },
     "output_type": "display_data"
    }
   ],
   "source": [
    "# Text length Histogram\n",
    "fig, ax = plt.subplots(ncols=1, figsize=(15,5))\n",
    "ax.hist(df['length'], bins=20, range=(df['length'].min(), df['length'].max()), color='#1F4E79')\n",
    "ax.set_title('Text Length Histogram')\n",
    "ax.set_xlabel('Text Length')\n",
    "ax.set_ylabel('Frequency')\n",
    "plt.tight_layout()\n",
    "plt.show()"
   ]
  },
  {
   "cell_type": "code",
   "execution_count": 16,
   "id": "fa169873",
   "metadata": {},
   "outputs": [],
   "source": [
    "# Create a histogram\n",
    "def histogram(dataframe,column, groupby):\n",
    "    unique_values =dataframe[groupby].unique()\n",
    "    count= dataframe[groupby].nunique()\n",
    "    filtered_df = dataframe[dataframe[groupby].isin(unique_values)]\n",
    "    fig, axes = plt.subplots(nrows=count, ncols=1, figsize=(15, 25))\n",
    "    for i, value in enumerate(unique_values):\n",
    "        ax = axes[i] if count > 1 else axes\n",
    "        df_unique= filtered_df[filtered_df[groupby] == value][column]\n",
    "        ax.hist(df_unique,bins=20, range=(df_unique.min(), df_unique.max()), color='#1F4E79')\n",
    "        ax.set_title(f'Histogram for {column} where {groupby} = {value}')\n",
    "        ax.set_xlabel(column)\n",
    "        ax.set_ylabel('Frequency')\n",
    "    plt.tight_layout()\n",
    "    plt.show()\n",
    "    return"
   ]
  },
  {
   "cell_type": "code",
   "execution_count": 17,
   "id": "2f683501",
   "metadata": {},
   "outputs": [
    {
     "data": {
      "image/png": "[encoded data removed]",
      "text/plain": [
       "<Figure size 1080x1800 with 5 Axes>"
      ]
     },
     "metadata": {
      "needs_background": "light"
     },
     "output_type": "display_data"
    }
   ],
   "source": [
    "histogram(df,'length','text_type')"
   ]
  },
  {
   "cell_type": "code",
   "execution_count": 18,
   "id": "7ec78dc5",
   "metadata": {},
   "outputs": [],
   "source": [
    "# Add classifation based on length\n",
    "length_classification= []\n",
    "for index, row in df.iterrows():\n",
    "    length = row['length']\n",
    "    if length < 50:\n",
    "        length_classification.append('short')\n",
    "    elif length >= 50 and length < 250:\n",
    "        length_classification.append('medium')\n",
    "    elif length >= 250:\n",
    "        length_classification.append('long')\n",
    "df['length_classification'] = length_classification"
   ]
  },
  {
   "cell_type": "code",
   "execution_count": 19,
   "id": "e8a7fef3",
   "metadata": {},
   "outputs": [
    {
     "name": "stdout",
     "output_type": "stream",
     "text": [
      "length_classification\n",
      "long      1374\n",
      "medium    2318\n",
      "short     1308\n",
      "dtype: int64\n"
     ]
    }
   ],
   "source": [
    "# Count per  length classification\n",
    "print(df.groupby(['length_classification']).size())"
   ]
  },
  {
   "cell_type": "code",
   "execution_count": 20,
   "id": "0a811833",
   "metadata": {},
   "outputs": [
    {
     "name": "stdout",
     "output_type": "stream",
     "text": [
      "text_type     length_classification\n",
      "news          long                     1000\n",
      "news title    medium                    989\n",
      "              short                      11\n",
      "review        long                      374\n",
      "              medium                    626\n",
      "review title  medium                     12\n",
      "              short                     988\n",
      "twitter       medium                    691\n",
      "              short                     309\n",
      "dtype: int64\n"
     ]
    }
   ],
   "source": [
    "# Count per text type and length classification\n",
    "print(df.groupby(['text_type', 'length_classification']).size())"
   ]
  },
  {
   "cell_type": "code",
   "execution_count": 21,
   "id": "53fa8e74",
   "metadata": {},
   "outputs": [
    {
     "data": {
      "image/png": "[encoded data removed]",
      "text/plain": [
       "<Figure size 1080x1800 with 3 Axes>"
      ]
     },
     "metadata": {
      "needs_background": "light"
     },
     "output_type": "display_data"
    }
   ],
   "source": [
    "histogram(df,'length','length_classification')"
   ]
  },
  {
   "cell_type": "code",
   "execution_count": 22,
   "id": "4ac387d8",
   "metadata": {},
   "outputs": [
    {
     "data": {
      "text/html": [
       "<div>\n",
       "<style scoped>\n",
       "    .dataframe tbody tr th:only-of-type {\n",
       "        vertical-align: middle;\n",
       "    }\n",
       "\n",
       "    .dataframe tbody tr th {\n",
       "        vertical-align: top;\n",
       "    }\n",
       "\n",
       "    .dataframe thead th {\n",
       "        text-align: right;\n",
       "    }\n",
       "</style>\n",
       "<table border=\"1\" class=\"dataframe\">\n",
       "  <thead>\n",
       "    <tr style=\"text-align: right;\">\n",
       "      <th></th>\n",
       "      <th>text</th>\n",
       "      <th>human_sentiment</th>\n",
       "      <th>text_type</th>\n",
       "      <th>length</th>\n",
       "      <th>length_classification</th>\n",
       "    </tr>\n",
       "  </thead>\n",
       "  <tbody>\n",
       "    <tr>\n",
       "      <th>0</th>\n",
       "      <td>@switchfoot http://twitpic.com/2y1zl - Awww, t...</td>\n",
       "      <td>negative</td>\n",
       "      <td>twitter</td>\n",
       "      <td>115</td>\n",
       "      <td>medium</td>\n",
       "    </tr>\n",
       "    <tr>\n",
       "      <th>1</th>\n",
       "      <td>is upset that he can't update his Facebook by ...</td>\n",
       "      <td>negative</td>\n",
       "      <td>twitter</td>\n",
       "      <td>111</td>\n",
       "      <td>medium</td>\n",
       "    </tr>\n",
       "    <tr>\n",
       "      <th>2</th>\n",
       "      <td>@Kenichan I dived many times for the ball. Man...</td>\n",
       "      <td>neutral</td>\n",
       "      <td>twitter</td>\n",
       "      <td>89</td>\n",
       "      <td>medium</td>\n",
       "    </tr>\n",
       "    <tr>\n",
       "      <th>3</th>\n",
       "      <td>my whole body feels itchy and like its on fire</td>\n",
       "      <td>negative</td>\n",
       "      <td>twitter</td>\n",
       "      <td>47</td>\n",
       "      <td>short</td>\n",
       "    </tr>\n",
       "    <tr>\n",
       "      <th>4</th>\n",
       "      <td>@nationwideclass no, it's not behaving at all....</td>\n",
       "      <td>neutral</td>\n",
       "      <td>twitter</td>\n",
       "      <td>111</td>\n",
       "      <td>medium</td>\n",
       "    </tr>\n",
       "  </tbody>\n",
       "</table>\n",
       "</div>"
      ],
      "text/plain": [
       "                                                text human_sentiment  \\\n",
       "0  @switchfoot http://twitpic.com/2y1zl - Awww, t...        negative   \n",
       "1  is upset that he can't update his Facebook by ...        negative   \n",
       "2  @Kenichan I dived many times for the ball. Man...         neutral   \n",
       "3    my whole body feels itchy and like its on fire         negative   \n",
       "4  @nationwideclass no, it's not behaving at all....         neutral   \n",
       "\n",
       "  text_type  length length_classification  \n",
       "0   twitter     115                medium  \n",
       "1   twitter     111                medium  \n",
       "2   twitter      89                medium  \n",
       "3   twitter      47                 short  \n",
       "4   twitter     111                medium  "
      ]
     },
     "execution_count": 22,
     "metadata": {},
     "output_type": "execute_result"
    }
   ],
   "source": [
    "df.head()"
   ]
  },
  {
   "cell_type": "markdown",
   "id": "2e8f756f",
   "metadata": {},
   "source": [
    "## Pickle file"
   ]
  },
  {
   "cell_type": "code",
   "execution_count": 23,
   "id": "26542a5e",
   "metadata": {},
   "outputs": [],
   "source": [
    "# Create pickle file\n",
    "picklefile = open('Data/Processed Data/dataset.pkl', 'wb')\n",
    "pickle.dump(df, picklefile)\n",
    "picklefile.close()"
   ]
  },
  {
   "cell_type": "code",
   "execution_count": null,
   "id": "bcb781ca",
   "metadata": {},
   "outputs": [],
   "source": []
  }
 ],
 "metadata": {
  "kernelspec": {
   "display_name": "Python 3 (ipykernel)",
   "language": "python",
   "name": "python3"
  },
  "language_info": {
   "codemirror_mode": {
    "name": "ipython",
    "version": 3
   },
   "file_extension": ".py",
   "mimetype": "text/x-python",
   "name": "python",
   "nbconvert_exporter": "python",
   "pygments_lexer": "ipython3",
   "version": "3.9.12"
  }
 },
 "nbformat": 4,
 "nbformat_minor": 5
}
